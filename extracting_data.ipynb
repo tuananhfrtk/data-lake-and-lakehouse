{
 "cells": [
  {
   "cell_type": "markdown",
   "metadata": {
    "application/vnd.databricks.v1+cell": {
     "cellMetadata": {
      "byteLimit": 2048000,
      "rowLimit": 10000
     },
     "inputWidgets": {},
     "nuid": "39276ea0-ca62-48e7-8c22-aa07d6bacaaa",
     "showTitle": false,
     "title": ""
    }
   },
   "source": [
    "<h2>Extract information from CSV files stored in Databricks and write it to the Delta file system.</h2>"
   ]
  },
  {
   "cell_type": "markdown",
   "metadata": {},
   "source": [
    "Picks files up from the Databricks file system storage and writes it out to Delta file locations."
   ]
  },
  {
   "cell_type": "markdown",
   "metadata": {
    "application/vnd.databricks.v1+cell": {
     "cellMetadata": {
      "byteLimit": 2048000,
      "rowLimit": 10000
     },
     "inputWidgets": {},
     "nuid": "e00e866b-cceb-4c36-a0e8-faf53bb88b29",
     "showTitle": false,
     "title": ""
    }
   },
   "source": [
    "<h3>Payments</h3>"
   ]
  },
  {
   "cell_type": "code",
   "execution_count": null,
   "metadata": {
    "application/vnd.databricks.v1+cell": {
     "cellMetadata": {
      "byteLimit": 2048000,
      "rowLimit": 10000
     },
     "inputWidgets": {},
     "nuid": "7c9f3bf9-6695-4f4c-9ff8-5e9bf0935223",
     "showTitle": false,
     "title": ""
    }
   },
   "outputs": [],
   "source": [
    "# Extract Payment data from csv file by creating a DataFrame named payment_df\n",
    "\n",
    "payments_df = (\n",
    "    spark.read.format(\"csv\")\n",
    "    .option(\"inferSchema\", \"true\") #automatically infer the data types of each column\n",
    "    .option(\"header\", \"false\") # specifies whether the CSV file has a header row or not. \n",
    "    .option(\"sep\", \",\") #comma as the delimiter\n",
    "    .load(\"dbfs:/FileStore/tables/payments.csv\") #loads the CSV file into a DataFrame with the filepath specified\n",
    "    .toDF(\"payment_id\", \"date\", \"amount\", \"rider_id\") #renames the columns of the DataFrame\n",
    ")"
   ]
  },
  {
   "cell_type": "code",
   "execution_count": null,
   "metadata": {
    "application/vnd.databricks.v1+cell": {
     "cellMetadata": {
      "byteLimit": 2048000,
      "rowLimit": 10000
     },
     "inputWidgets": {},
     "nuid": "97ceab77-1fb4-4021-b9f5-f2b8b6167af7",
     "showTitle": false,
     "title": ""
    }
   },
   "outputs": [
    {
     "data": {
      "text/html": [
       "<style scoped>\n",
       "  .table-result-container {\n",
       "    max-height: 300px;\n",
       "    overflow: auto;\n",
       "  }\n",
       "  table, th, td {\n",
       "    border: 1px solid black;\n",
       "    border-collapse: collapse;\n",
       "  }\n",
       "  th, td {\n",
       "    padding: 5px;\n",
       "  }\n",
       "  th {\n",
       "    text-align: left;\n",
       "  }\n",
       "</style><div class='table-result-container'><table class='table-result'><thead style='background-color: white'><tr><th>payment_id</th><th>date</th><th>amount</th><th>rider_id</th></tr></thead><tbody><tr><td>1</td><td>2019-05-01</td><td>9.0</td><td>1000</td></tr><tr><td>2</td><td>2019-06-01</td><td>9.0</td><td>1000</td></tr><tr><td>3</td><td>2019-07-01</td><td>9.0</td><td>1000</td></tr><tr><td>4</td><td>2019-08-01</td><td>9.0</td><td>1000</td></tr><tr><td>5</td><td>2019-09-01</td><td>9.0</td><td>1000</td></tr><tr><td>6</td><td>2019-10-01</td><td>9.0</td><td>1000</td></tr><tr><td>7</td><td>2019-11-01</td><td>9.0</td><td>1000</td></tr><tr><td>8</td><td>2019-12-01</td><td>9.0</td><td>1000</td></tr><tr><td>9</td><td>2020-01-01</td><td>9.0</td><td>1000</td></tr><tr><td>10</td><td>2020-02-01</td><td>9.0</td><td>1000</td></tr></tbody></table></div>"
      ]
     },
     "metadata": {
      "application/vnd.databricks.v1+output": {
       "addedWidgets": {},
       "aggData": [],
       "aggError": "",
       "aggOverflow": false,
       "aggSchema": [],
       "aggSeriesLimitReached": false,
       "aggType": "",
       "arguments": {},
       "columnCustomDisplayInfos": {},
       "data": [
        [
         1,
         "2019-05-01",
         9,
         1000
        ],
        [
         2,
         "2019-06-01",
         9,
         1000
        ],
        [
         3,
         "2019-07-01",
         9,
         1000
        ],
        [
         4,
         "2019-08-01",
         9,
         1000
        ],
        [
         5,
         "2019-09-01",
         9,
         1000
        ],
        [
         6,
         "2019-10-01",
         9,
         1000
        ],
        [
         7,
         "2019-11-01",
         9,
         1000
        ],
        [
         8,
         "2019-12-01",
         9,
         1000
        ],
        [
         9,
         "2020-01-01",
         9,
         1000
        ],
        [
         10,
         "2020-02-01",
         9,
         1000
        ]
       ],
       "datasetInfos": [],
       "dbfsResultPath": null,
       "isJsonSchema": true,
       "metadata": {},
       "overflow": false,
       "plotOptions": {
        "customPlotOptions": {},
        "displayType": "table",
        "pivotAggregation": null,
        "pivotColumns": null,
        "xColumns": null,
        "yColumns": null
       },
       "removedWidgets": [],
       "schema": [
        {
         "metadata": "{}",
         "name": "payment_id",
         "type": "\"integer\""
        },
        {
         "metadata": "{\"__detected_date_formats\":\"yyyy-M-d\"}",
         "name": "date",
         "type": "\"date\""
        },
        {
         "metadata": "{}",
         "name": "amount",
         "type": "\"double\""
        },
        {
         "metadata": "{}",
         "name": "rider_id",
         "type": "\"integer\""
        }
       ],
       "type": "table"
      }
     },
     "output_type": "display_data"
    }
   ],
   "source": [
    "# Display the Schema of DataFrame created (first 10 rows)\n",
    "display(payments_df.limit(10))\n",
    "payments_df.printSchema\n"
   ]
  },
  {
   "cell_type": "code",
   "execution_count": null,
   "metadata": {
    "application/vnd.databricks.v1+cell": {
     "cellMetadata": {
      "byteLimit": 2048000,
      "rowLimit": 10000
     },
     "inputWidgets": {},
     "nuid": "ad8ab576-4e56-4de7-ab87-9b29c28cfda7",
     "showTitle": false,
     "title": ""
    }
   },
   "outputs": [],
   "source": [
    "# Write data into the Delta location\n",
    "payments_df.write.format(\"delta\") # write the DataFrame payments_df into Delta Lake format.\n",
    "                .mode(\"overwrite\") \n",
    "                .save(\"/delta/payments\")"
   ]
  },
  {
   "cell_type": "markdown",
   "metadata": {
    "application/vnd.databricks.v1+cell": {
     "cellMetadata": {
      "byteLimit": 2048000,
      "rowLimit": 10000
     },
     "inputWidgets": {},
     "nuid": "36ba21a8-0309-41ec-86b0-24c30ececf7e",
     "showTitle": false,
     "title": ""
    }
   },
   "source": [
    "<h3>Riders</h3>"
   ]
  },
  {
   "cell_type": "code",
   "execution_count": null,
   "metadata": {
    "application/vnd.databricks.v1+cell": {
     "cellMetadata": {
      "byteLimit": 2048000,
      "rowLimit": 10000
     },
     "inputWidgets": {},
     "nuid": "b8385a7e-e9fa-4482-9f1a-3ceff9b3600a",
     "showTitle": false,
     "title": ""
    }
   },
   "outputs": [],
   "source": [
    "# Extract Rider data from csv file by creating a DataFrame named rider_df\n",
    "riders_df = (\n",
    "    spark.read.format(\"csv\")\n",
    "    .option(\"inferSchema\", \"true\")\n",
    "    .option(\"header\", \"false\")\n",
    "    .option(\"sep\", \",\")\n",
    "    .load(\"dbfs:/FileStore/tables/riders.csv\")\n",
    "    .toDF(\n",
    "        \"rider_id\",\n",
    "        \"first_name\",\n",
    "        \"last_name\",\n",
    "        \"address\",\n",
    "        \"birthday\",\n",
    "        \"account_start_date\",\n",
    "        \"account_end_date\",\n",
    "        \"is_member\",\n",
    "    )\n",
    ")"
   ]
  },
  {
   "cell_type": "code",
   "execution_count": null,
   "metadata": {
    "application/vnd.databricks.v1+cell": {
     "cellMetadata": {
      "byteLimit": 2048000,
      "rowLimit": 10000
     },
     "inputWidgets": {},
     "nuid": "3ca7cc27-3fa8-4e54-bf1f-c44db5d7a1e8",
     "showTitle": false,
     "title": ""
    }
   },
   "outputs": [
    {
     "data": {
      "text/html": [
       "<style scoped>\n",
       "  .table-result-container {\n",
       "    max-height: 300px;\n",
       "    overflow: auto;\n",
       "  }\n",
       "  table, th, td {\n",
       "    border: 1px solid black;\n",
       "    border-collapse: collapse;\n",
       "  }\n",
       "  th, td {\n",
       "    padding: 5px;\n",
       "  }\n",
       "  th {\n",
       "    text-align: left;\n",
       "  }\n",
       "</style><div class='table-result-container'><table class='table-result'><thead style='background-color: white'><tr><th>rider_id</th><th>first_name</th><th>last_name</th><th>address</th><th>birthday</th><th>account_start_date</th><th>account_end_date</th><th>is_member</th></tr></thead><tbody><tr><td>1000</td><td>Diana</td><td>Clark</td><td>1200 Alyssa Squares</td><td>1989-02-13</td><td>2019-04-23</td><td>null</td><td>true</td></tr><tr><td>1001</td><td>Jennifer</td><td>Smith</td><td>397 Diana Ferry</td><td>1976-08-10</td><td>2019-11-01</td><td>2020-09-01</td><td>true</td></tr><tr><td>1002</td><td>Karen</td><td>Smith</td><td>644 Brittany Row Apt. 097</td><td>1998-08-10</td><td>2022-02-04</td><td>null</td><td>true</td></tr><tr><td>1003</td><td>Bryan</td><td>Roberts</td><td>996 Dickerson Turnpike</td><td>1999-03-29</td><td>2019-08-26</td><td>null</td><td>false</td></tr><tr><td>1004</td><td>Jesse</td><td>Middleton</td><td>7009 Nathan Expressway</td><td>1969-04-11</td><td>2019-09-14</td><td>null</td><td>true</td></tr><tr><td>1005</td><td>Christine</td><td>Rodriguez</td><td>224 Washington Mills Apt. 467</td><td>1974-08-27</td><td>2020-03-24</td><td>null</td><td>false</td></tr><tr><td>1006</td><td>Alicia</td><td>Taylor</td><td>1137 Angela Locks</td><td>2004-01-30</td><td>2020-11-27</td><td>2021-12-01</td><td>true</td></tr><tr><td>1007</td><td>Benjamin</td><td>Fernandez</td><td>979 Phillips Ways</td><td>1988-01-11</td><td>2016-12-11</td><td>null</td><td>false</td></tr><tr><td>1008</td><td>John</td><td>Crawford</td><td>7691 Evans Court</td><td>1987-02-21</td><td>2021-03-28</td><td>2021-07-01</td><td>true</td></tr><tr><td>1009</td><td>Victoria</td><td>Ritter</td><td>9922 Jim Crest Apt. 319</td><td>1981-02-07</td><td>2020-06-12</td><td>2021-11-01</td><td>true</td></tr></tbody></table></div>"
      ]
     },
     "metadata": {
      "application/vnd.databricks.v1+output": {
       "addedWidgets": {},
       "aggData": [],
       "aggError": "",
       "aggOverflow": false,
       "aggSchema": [],
       "aggSeriesLimitReached": false,
       "aggType": "",
       "arguments": {},
       "columnCustomDisplayInfos": {},
       "data": [
        [
         1000,
         "Diana",
         "Clark",
         "1200 Alyssa Squares",
         "1989-02-13",
         "2019-04-23",
         null,
         true
        ],
        [
         1001,
         "Jennifer",
         "Smith",
         "397 Diana Ferry",
         "1976-08-10",
         "2019-11-01",
         "2020-09-01",
         true
        ],
        [
         1002,
         "Karen",
         "Smith",
         "644 Brittany Row Apt. 097",
         "1998-08-10",
         "2022-02-04",
         null,
         true
        ],
        [
         1003,
         "Bryan",
         "Roberts",
         "996 Dickerson Turnpike",
         "1999-03-29",
         "2019-08-26",
         null,
         false
        ],
        [
         1004,
         "Jesse",
         "Middleton",
         "7009 Nathan Expressway",
         "1969-04-11",
         "2019-09-14",
         null,
         true
        ],
        [
         1005,
         "Christine",
         "Rodriguez",
         "224 Washington Mills Apt. 467",
         "1974-08-27",
         "2020-03-24",
         null,
         false
        ],
        [
         1006,
         "Alicia",
         "Taylor",
         "1137 Angela Locks",
         "2004-01-30",
         "2020-11-27",
         "2021-12-01",
         true
        ],
        [
         1007,
         "Benjamin",
         "Fernandez",
         "979 Phillips Ways",
         "1988-01-11",
         "2016-12-11",
         null,
         false
        ],
        [
         1008,
         "John",
         "Crawford",
         "7691 Evans Court",
         "1987-02-21",
         "2021-03-28",
         "2021-07-01",
         true
        ],
        [
         1009,
         "Victoria",
         "Ritter",
         "9922 Jim Crest Apt. 319",
         "1981-02-07",
         "2020-06-12",
         "2021-11-01",
         true
        ]
       ],
       "datasetInfos": [],
       "dbfsResultPath": null,
       "isJsonSchema": true,
       "metadata": {},
       "overflow": false,
       "plotOptions": {
        "customPlotOptions": {},
        "displayType": "table",
        "pivotAggregation": null,
        "pivotColumns": null,
        "xColumns": null,
        "yColumns": null
       },
       "removedWidgets": [],
       "schema": [
        {
         "metadata": "{}",
         "name": "rider_id",
         "type": "\"integer\""
        },
        {
         "metadata": "{}",
         "name": "first_name",
         "type": "\"string\""
        },
        {
         "metadata": "{}",
         "name": "last_name",
         "type": "\"string\""
        },
        {
         "metadata": "{}",
         "name": "address",
         "type": "\"string\""
        },
        {
         "metadata": "{\"__detected_date_formats\":\"yyyy-M-d\"}",
         "name": "birthday",
         "type": "\"date\""
        },
        {
         "metadata": "{\"__detected_date_formats\":\"yyyy-M-d\"}",
         "name": "account_start_date",
         "type": "\"date\""
        },
        {
         "metadata": "{\"__detected_date_formats\":\"yyyy-M-d\"}",
         "name": "account_end_date",
         "type": "\"date\""
        },
        {
         "metadata": "{}",
         "name": "is_member",
         "type": "\"boolean\""
        }
       ],
       "type": "table"
      }
     },
     "output_type": "display_data"
    },
    {
     "name": "stdout",
     "output_type": "stream",
     "text": [
      "Out[16]: <bound method DataFrame.printSchema of DataFrame[rider_id: int, first_name: string, last_name: string, address: string, birthday: date, account_start_date: date, account_end_date: date, is_member: boolean]>"
     ]
    }
   ],
   "source": [
    "# Display the Schema of DataFrame created (first 10 rows)\n",
    "\n",
    "display(riders_df.limit(10))\n",
    "riders_df.printSchema"
   ]
  },
  {
   "cell_type": "code",
   "execution_count": null,
   "metadata": {
    "application/vnd.databricks.v1+cell": {
     "cellMetadata": {
      "byteLimit": 2048000,
      "rowLimit": 10000
     },
     "inputWidgets": {},
     "nuid": "078e50d9-9d17-4fb4-bcdc-023ea81a28c6",
     "showTitle": false,
     "title": ""
    }
   },
   "outputs": [],
   "source": [
    "# Write data to delta location\n",
    "riders_df.write.format(\"delta\")\n",
    "                .mode(\"overwrite\")\n",
    "                .save(\"/delta/riders\")"
   ]
  },
  {
   "cell_type": "markdown",
   "metadata": {
    "application/vnd.databricks.v1+cell": {
     "cellMetadata": {
      "byteLimit": 2048000,
      "rowLimit": 10000
     },
     "inputWidgets": {},
     "nuid": "998bad5f-30ee-47a7-b686-d3db7875c9a5",
     "showTitle": false,
     "title": ""
    }
   },
   "source": [
    "<h3>Stations</h3>"
   ]
  },
  {
   "cell_type": "code",
   "execution_count": null,
   "metadata": {
    "application/vnd.databricks.v1+cell": {
     "cellMetadata": {
      "byteLimit": 2048000,
      "rowLimit": 10000
     },
     "inputWidgets": {},
     "nuid": "a51fa299-bdea-4e39-ae5f-007b369b3913",
     "showTitle": false,
     "title": ""
    }
   },
   "outputs": [],
   "source": [
    "# Extract Extraction data from csv file by creating a DataFrame named extraction_df\n",
    "stations_df = (\n",
    "    spark.read.format(\"csv\")\n",
    "    .option(\"inferSchema\", \"true\")\n",
    "    .option(\"header\", \"false\")\n",
    "    .option(\"sep\", \",\")\n",
    "    .load(\"dbfs:/FileStore/tables/stations.csv\")\n",
    "    .toDF(\"station_id\", \"name\", \"latitude\", \"longitude\")\n",
    ")"
   ]
  },
  {
   "cell_type": "code",
   "execution_count": null,
   "metadata": {
    "application/vnd.databricks.v1+cell": {
     "cellMetadata": {
      "byteLimit": 2048000,
      "rowLimit": 10000
     },
     "inputWidgets": {},
     "nuid": "8b2623da-417b-4f2b-82d3-c23d3df77342",
     "showTitle": false,
     "title": ""
    }
   },
   "outputs": [
    {
     "data": {
      "text/html": [
       "<style scoped>\n",
       "  .table-result-container {\n",
       "    max-height: 300px;\n",
       "    overflow: auto;\n",
       "  }\n",
       "  table, th, td {\n",
       "    border: 1px solid black;\n",
       "    border-collapse: collapse;\n",
       "  }\n",
       "  th, td {\n",
       "    padding: 5px;\n",
       "  }\n",
       "  th {\n",
       "    text-align: left;\n",
       "  }\n",
       "</style><div class='table-result-container'><table class='table-result'><thead style='background-color: white'><tr><th>station_id</th><th>name</th><th>latitude</th><th>longitude</th></tr></thead><tbody><tr><td>525</td><td>Glenwood Ave & Touhy Ave</td><td>42.012701</td><td>-87.66605799999999</td></tr><tr><td>KA1503000012</td><td>Clark St & Lake St</td><td>41.88579466666667</td><td>-87.63110066666668</td></tr><tr><td>637</td><td>Wood St & Chicago Ave</td><td>41.895634</td><td>-87.672069</td></tr><tr><td>13216</td><td>State St & 33rd St</td><td>41.8347335</td><td>-87.6258275</td></tr><tr><td>18003</td><td>Fairbanks St & Superior St</td><td>41.89580766666667</td><td>-87.62025316666669</td></tr><tr><td>KP1705001026</td><td>LaSalle Dr & Huron St</td><td>41.894877</td><td>-87.632326</td></tr><tr><td>13253</td><td>Lincoln Ave & Waveland Ave</td><td>41.948797</td><td>-87.675278</td></tr><tr><td>KA1503000044</td><td>Rush St & Hubbard St</td><td>41.890173</td><td>-87.62618499999999</td></tr><tr><td>KA1504000140</td><td>Winchester Ave & Elston Ave</td><td>41.92403733333333</td><td>-87.67641483333334</td></tr><tr><td>TA1305000032</td><td>Clinton St & Madison St</td><td>41.882242</td><td>-87.64106600000001</td></tr></tbody></table></div>"
      ]
     },
     "metadata": {
      "application/vnd.databricks.v1+output": {
       "addedWidgets": {},
       "aggData": [],
       "aggError": "",
       "aggOverflow": false,
       "aggSchema": [],
       "aggSeriesLimitReached": false,
       "aggType": "",
       "arguments": {},
       "columnCustomDisplayInfos": {},
       "data": [
        [
         "525",
         "Glenwood Ave & Touhy Ave",
         42.012701,
         -87.66605799999999
        ],
        [
         "KA1503000012",
         "Clark St & Lake St",
         41.88579466666667,
         -87.63110066666668
        ],
        [
         "637",
         "Wood St & Chicago Ave",
         41.895634,
         -87.672069
        ],
        [
         "13216",
         "State St & 33rd St",
         41.8347335,
         -87.6258275
        ],
        [
         "18003",
         "Fairbanks St & Superior St",
         41.89580766666667,
         -87.62025316666669
        ],
        [
         "KP1705001026",
         "LaSalle Dr & Huron St",
         41.894877,
         -87.632326
        ],
        [
         "13253",
         "Lincoln Ave & Waveland Ave",
         41.948797,
         -87.675278
        ],
        [
         "KA1503000044",
         "Rush St & Hubbard St",
         41.890173,
         -87.62618499999999
        ],
        [
         "KA1504000140",
         "Winchester Ave & Elston Ave",
         41.92403733333333,
         -87.67641483333334
        ],
        [
         "TA1305000032",
         "Clinton St & Madison St",
         41.882242,
         -87.64106600000001
        ]
       ],
       "datasetInfos": [],
       "dbfsResultPath": null,
       "isJsonSchema": true,
       "metadata": {},
       "overflow": false,
       "plotOptions": {
        "customPlotOptions": {},
        "displayType": "table",
        "pivotAggregation": null,
        "pivotColumns": null,
        "xColumns": null,
        "yColumns": null
       },
       "removedWidgets": [],
       "schema": [
        {
         "metadata": "{}",
         "name": "station_id",
         "type": "\"string\""
        },
        {
         "metadata": "{}",
         "name": "name",
         "type": "\"string\""
        },
        {
         "metadata": "{}",
         "name": "latitude",
         "type": "\"double\""
        },
        {
         "metadata": "{}",
         "name": "longitude",
         "type": "\"double\""
        }
       ],
       "type": "table"
      }
     },
     "output_type": "display_data"
    },
    {
     "name": "stdout",
     "output_type": "stream",
     "text": [
      "Out[19]: <bound method DataFrame.printSchema of DataFrame[station_id: string, name: string, latitude: double, longitude: double]>"
     ]
    }
   ],
   "source": [
    "# Display the Schema of DataFrame created (first 10 rows)\n",
    "display(stations_df.limit(10))\n",
    "stations_df.printSchema"
   ]
  },
  {
   "cell_type": "code",
   "execution_count": null,
   "metadata": {
    "application/vnd.databricks.v1+cell": {
     "cellMetadata": {
      "byteLimit": 2048000,
      "rowLimit": 10000
     },
     "inputWidgets": {},
     "nuid": "7fac2c4a-a372-41ba-90fb-dd44917f1355",
     "showTitle": false,
     "title": ""
    }
   },
   "outputs": [],
   "source": [
    "# Write data to delta location\n",
    "stations_df.write.format(\"delta\").mode(\"overwrite\").save(\"/delta/stations\")"
   ]
  },
  {
   "cell_type": "markdown",
   "metadata": {
    "application/vnd.databricks.v1+cell": {
     "cellMetadata": {
      "byteLimit": 2048000,
      "rowLimit": 10000
     },
     "inputWidgets": {},
     "nuid": "262c0fb4-a8e9-49b4-b918-0c310946fe3c",
     "showTitle": false,
     "title": ""
    }
   },
   "source": [
    "<h3>Trips</h3>"
   ]
  },
  {
   "cell_type": "code",
   "execution_count": null,
   "metadata": {
    "application/vnd.databricks.v1+cell": {
     "cellMetadata": {
      "byteLimit": 2048000,
      "rowLimit": 10000
     },
     "inputWidgets": {},
     "nuid": "5857cb1a-b637-451d-ab42-fad78adb776b",
     "showTitle": false,
     "title": ""
    }
   },
   "outputs": [],
   "source": [
    "# Extract trips data from csv file by creating a DataFrame named trips_df\n",
    "trips_df = (\n",
    "    spark.read.format(\"csv\")\n",
    "    .option(\"inferSchema\", \"true\")\n",
    "    .option(\"header\", \"false\")\n",
    "    .option(\"sep\", \",\")\n",
    "    .load(\"dbfs:/FileStore/tables/trips.csv\")\n",
    "    .toDF(\n",
    "        \"trip_id\",\n",
    "        \"rideable_type\",\n",
    "        \"start_at\",\n",
    "        \"ended_at\",\n",
    "        \"start_station_id\",\n",
    "        \"end_station_id\",\n",
    "        \"rider_id\",\n",
    "    )\n",
    ")"
   ]
  },
  {
   "cell_type": "code",
   "execution_count": null,
   "metadata": {
    "application/vnd.databricks.v1+cell": {
     "cellMetadata": {
      "byteLimit": 2048000,
      "rowLimit": 10000
     },
     "inputWidgets": {},
     "nuid": "235d1ad6-ce5e-4caf-9b16-3a59f92f2074",
     "showTitle": false,
     "title": ""
    }
   },
   "outputs": [
    {
     "data": {
      "text/html": [
       "<style scoped>\n",
       "  .table-result-container {\n",
       "    max-height: 300px;\n",
       "    overflow: auto;\n",
       "  }\n",
       "  table, th, td {\n",
       "    border: 1px solid black;\n",
       "    border-collapse: collapse;\n",
       "  }\n",
       "  th, td {\n",
       "    padding: 5px;\n",
       "  }\n",
       "  th {\n",
       "    text-align: left;\n",
       "  }\n",
       "</style><div class='table-result-container'><table class='table-result'><thead style='background-color: white'><tr><th>trip_id</th><th>rideable_type</th><th>start_at</th><th>ended_at</th><th>start_station_id</th><th>end_station_id</th><th>rider_id</th></tr></thead><tbody><tr><td>89E7AA6C29227EFF</td><td>classic_bike</td><td>2021-02-12T16:14:56.000+0000</td><td>2021-02-12T16:21:43.000+0000</td><td>525</td><td>660</td><td>71934</td></tr><tr><td>0FEFDE2603568365</td><td>classic_bike</td><td>2021-02-14T17:52:38.000+0000</td><td>2021-02-14T18:12:09.000+0000</td><td>525</td><td>16806</td><td>47854</td></tr><tr><td>E6159D746B2DBB91</td><td>electric_bike</td><td>2021-02-09T19:10:18.000+0000</td><td>2021-02-09T19:19:10.000+0000</td><td>KA1503000012</td><td>TA1305000029</td><td>70870</td></tr><tr><td>B32D3199F1C2E75B</td><td>classic_bike</td><td>2021-02-02T17:49:41.000+0000</td><td>2021-02-02T17:54:06.000+0000</td><td>637</td><td>TA1305000034</td><td>58974</td></tr><tr><td>83E463F23575F4BF</td><td>electric_bike</td><td>2021-02-23T15:07:23.000+0000</td><td>2021-02-23T15:22:37.000+0000</td><td>13216</td><td>TA1309000055</td><td>39608</td></tr><tr><td>BDAA7E3494E8D545</td><td>electric_bike</td><td>2021-02-24T15:43:33.000+0000</td><td>2021-02-24T15:49:05.000+0000</td><td>18003</td><td>KP1705001026</td><td>36267</td></tr><tr><td>A772742351171257</td><td>classic_bike</td><td>2021-02-01T17:47:42.000+0000</td><td>2021-02-01T17:48:33.000+0000</td><td>KP1705001026</td><td>KP1705001026</td><td>50104</td></tr><tr><td>295476889D9B79F8</td><td>classic_bike</td><td>2021-02-11T18:33:53.000+0000</td><td>2021-02-11T18:35:09.000+0000</td><td>18003</td><td>18003</td><td>19618</td></tr><tr><td>362087194BA4CC9A</td><td>classic_bike</td><td>2021-02-27T15:13:39.000+0000</td><td>2021-02-27T15:36:36.000+0000</td><td>KP1705001026</td><td>KP1705001026</td><td>16732</td></tr><tr><td>21630F715038CCB0</td><td>classic_bike</td><td>2021-02-20T08:59:42.000+0000</td><td>2021-02-20T09:17:04.000+0000</td><td>KP1705001026</td><td>KP1705001026</td><td>57068</td></tr></tbody></table></div>"
      ]
     },
     "metadata": {
      "application/vnd.databricks.v1+output": {
       "addedWidgets": {},
       "aggData": [],
       "aggError": "",
       "aggOverflow": false,
       "aggSchema": [],
       "aggSeriesLimitReached": false,
       "aggType": "",
       "arguments": {},
       "columnCustomDisplayInfos": {},
       "data": [
        [
         "89E7AA6C29227EFF",
         "classic_bike",
         "2021-02-12T16:14:56.000+0000",
         "2021-02-12T16:21:43.000+0000",
         "525",
         "660",
         71934
        ],
        [
         "0FEFDE2603568365",
         "classic_bike",
         "2021-02-14T17:52:38.000+0000",
         "2021-02-14T18:12:09.000+0000",
         "525",
         "16806",
         47854
        ],
        [
         "E6159D746B2DBB91",
         "electric_bike",
         "2021-02-09T19:10:18.000+0000",
         "2021-02-09T19:19:10.000+0000",
         "KA1503000012",
         "TA1305000029",
         70870
        ],
        [
         "B32D3199F1C2E75B",
         "classic_bike",
         "2021-02-02T17:49:41.000+0000",
         "2021-02-02T17:54:06.000+0000",
         "637",
         "TA1305000034",
         58974
        ],
        [
         "83E463F23575F4BF",
         "electric_bike",
         "2021-02-23T15:07:23.000+0000",
         "2021-02-23T15:22:37.000+0000",
         "13216",
         "TA1309000055",
         39608
        ],
        [
         "BDAA7E3494E8D545",
         "electric_bike",
         "2021-02-24T15:43:33.000+0000",
         "2021-02-24T15:49:05.000+0000",
         "18003",
         "KP1705001026",
         36267
        ],
        [
         "A772742351171257",
         "classic_bike",
         "2021-02-01T17:47:42.000+0000",
         "2021-02-01T17:48:33.000+0000",
         "KP1705001026",
         "KP1705001026",
         50104
        ],
        [
         "295476889D9B79F8",
         "classic_bike",
         "2021-02-11T18:33:53.000+0000",
         "2021-02-11T18:35:09.000+0000",
         "18003",
         "18003",
         19618
        ],
        [
         "362087194BA4CC9A",
         "classic_bike",
         "2021-02-27T15:13:39.000+0000",
         "2021-02-27T15:36:36.000+0000",
         "KP1705001026",
         "KP1705001026",
         16732
        ],
        [
         "21630F715038CCB0",
         "classic_bike",
         "2021-02-20T08:59:42.000+0000",
         "2021-02-20T09:17:04.000+0000",
         "KP1705001026",
         "KP1705001026",
         57068
        ]
       ],
       "datasetInfos": [],
       "dbfsResultPath": null,
       "isJsonSchema": true,
       "metadata": {},
       "overflow": false,
       "plotOptions": {
        "customPlotOptions": {},
        "displayType": "table",
        "pivotAggregation": null,
        "pivotColumns": null,
        "xColumns": null,
        "yColumns": null
       },
       "removedWidgets": [],
       "schema": [
        {
         "metadata": "{}",
         "name": "trip_id",
         "type": "\"string\""
        },
        {
         "metadata": "{}",
         "name": "rideable_type",
         "type": "\"string\""
        },
        {
         "metadata": "{}",
         "name": "start_at",
         "type": "\"timestamp\""
        },
        {
         "metadata": "{}",
         "name": "ended_at",
         "type": "\"timestamp\""
        },
        {
         "metadata": "{}",
         "name": "start_station_id",
         "type": "\"string\""
        },
        {
         "metadata": "{}",
         "name": "end_station_id",
         "type": "\"string\""
        },
        {
         "metadata": "{}",
         "name": "rider_id",
         "type": "\"integer\""
        }
       ],
       "type": "table"
      }
     },
     "output_type": "display_data"
    },
    {
     "name": "stdout",
     "output_type": "stream",
     "text": [
      "Out[22]: <bound method DataFrame.printSchema of DataFrame[trip_id: string, rideable_type: string, start_at: timestamp, ended_at: timestamp, start_station_id: string, end_station_id: string, rider_id: int]>"
     ]
    }
   ],
   "source": [
    "# Display the Schema of DataFrame created (first 10 rows)\n",
    "display(trips_df.limit(10))\n",
    "trips_df.printSchema"
   ]
  },
  {
   "cell_type": "code",
   "execution_count": null,
   "metadata": {
    "application/vnd.databricks.v1+cell": {
     "cellMetadata": {
      "byteLimit": 2048000,
      "rowLimit": 10000
     },
     "inputWidgets": {},
     "nuid": "b3a8f0f9-22fa-49a4-b807-f38037df56f7",
     "showTitle": false,
     "title": ""
    }
   },
   "outputs": [],
   "source": [
    "# Write data to delta location\n",
    "trips_df.write.format(\"delta\").mode(\"overwrite\").save(\"/delta/trips\")"
   ]
  }
 ],
 "metadata": {
  "application/vnd.databricks.v1+notebook": {
   "dashboards": [],
   "language": "python",
   "notebookMetadata": {
    "pythonIndentUnit": 4
   },
   "notebookName": "extract_data",
   "widgets": {}
  },
  "kernelspec": {
   "display_name": "base",
   "language": "python",
   "name": "python3"
  },
  "language_info": {
   "codemirror_mode": {
    "name": "ipython",
    "version": 3
   },
   "file_extension": ".py",
   "mimetype": "text/x-python",
   "name": "python",
   "nbconvert_exporter": "python",
   "pygments_lexer": "ipython3",
   "version": "3.10.9"
  }
 },
 "nbformat": 4,
 "nbformat_minor": 0
}
