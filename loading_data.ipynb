{
 "cells": [
  {
   "cell_type": "markdown",
   "metadata": {
    "application/vnd.databricks.v1+cell": {
     "cellMetadata": {
      "byteLimit": 2048000,
      "rowLimit": 10000
     },
     "inputWidgets": {},
     "nuid": "a18d5e79-91ec-47f5-8094-bf682be915fb",
     "showTitle": false,
     "title": ""
    }
   },
   "source": [
    "<h1>Create Spark SQL tables and load data from the Delta files that were extracted in the previous step</h1>"
   ]
  },
  {
   "cell_type": "code",
   "execution_count": null,
   "metadata": {
    "application/vnd.databricks.v1+cell": {
     "cellMetadata": {
      "byteLimit": 2048000,
      "rowLimit": 10000
     },
     "inputWidgets": {},
     "nuid": "a361543a-39b1-42a1-ba48-d2960124bf53",
     "showTitle": false,
     "title": ""
    }
   },
   "outputs": [
    {
     "name": "stdout",
     "output_type": "stream",
     "text": [
      "Out[1]: DataFrame[]"
     ]
    }
   ],
   "source": [
    "# Loading payments data using spark.sql statements\n",
    "\n",
    "# Check if the table 'staging_payments' exists in the default database\n",
    "if(spark._jsparkSession.catalog().tableExists('default', 'staging_payments') == True):\n",
    "     # If the table exists, drop it\n",
    "    spark.sql(\"DROP TABLE IF EXISTS staging_payments\")\n",
    "    \n",
    "# Create a new table named 'staging_payments' using the Delta Lake format\n",
    "spark.sql(\"CREATE TABLE staging_payments USING DELTA LOCATION '/delta/payments'\")\n"
   ]
  },
  {
   "cell_type": "code",
   "execution_count": null,
   "metadata": {
    "application/vnd.databricks.v1+cell": {
     "cellMetadata": {
      "byteLimit": 2048000,
      "rowLimit": 10000
     },
     "inputWidgets": {},
     "nuid": "5191ebed-7f7c-4ac8-a412-a4e312d04691",
     "showTitle": false,
     "title": ""
    }
   },
   "outputs": [
    {
     "name": "stdout",
     "output_type": "stream",
     "text": [
      "Out[2]: DataFrame[]"
     ]
    }
   ],
   "source": [
    "# Loading riders data\n",
    "if(spark._jsparkSession.catalog().tableExists('default', 'staging_riders') == True):\n",
    "    spark.sql(\"DROP TABLE IF EXISTS staging_riders\")\n",
    "spark.sql(\"CREATE TABLE staging_riders USING DELTA LOCATION '/delta/riders'\")\n"
   ]
  },
  {
   "cell_type": "code",
   "execution_count": null,
   "metadata": {
    "application/vnd.databricks.v1+cell": {
     "cellMetadata": {
      "byteLimit": 2048000,
      "rowLimit": 10000
     },
     "inputWidgets": {},
     "nuid": "2c34d74b-021b-4c3d-8cef-24f865232e92",
     "showTitle": false,
     "title": ""
    }
   },
   "outputs": [
    {
     "name": "stdout",
     "output_type": "stream",
     "text": [
      "Out[3]: DataFrame[]"
     ]
    }
   ],
   "source": [
    "# Loading stations data\n",
    "if(spark._jsparkSession.catalog().tableExists('default', 'staging_stations') == True):\n",
    "    spark.sql(\"DROP TABLE IF EXISTS staging_stations\")    \n",
    "spark.sql(\"CREATE TABLE staging_stations USING DELTA LOCATION '/delta/stations'\")\n"
   ]
  },
  {
   "cell_type": "code",
   "execution_count": null,
   "metadata": {
    "application/vnd.databricks.v1+cell": {
     "cellMetadata": {
      "byteLimit": 2048000,
      "rowLimit": 10000
     },
     "inputWidgets": {},
     "nuid": "18c550c0-4464-463c-8421-fa123e87978c",
     "showTitle": false,
     "title": ""
    }
   },
   "outputs": [
    {
     "name": "stdout",
     "output_type": "stream",
     "text": [
      "Out[4]: DataFrame[]"
     ]
    }
   ],
   "source": [
    "# Loading trips data\n",
    "if(spark._jsparkSession.catalog().tableExists('default', 'staging_trips') == True):\n",
    "    spark.sql(\"DROP TABLE IF EXISTS staging_trips\")\n",
    "spark.sql(\"CREATE TABLE staging_trips USING DELTA LOCATION '/delta/trips'\")"
   ]
  }
 ],
 "metadata": {
  "application/vnd.databricks.v1+notebook": {
   "dashboards": [],
   "language": "python",
   "notebookMetadata": {
    "pythonIndentUnit": 4
   },
   "notebookName": "load_data",
   "widgets": {}
  },
  "language_info": {
   "name": "python"
  }
 },
 "nbformat": 4,
 "nbformat_minor": 0
}
